{
 "cells": [
  {
   "cell_type": "markdown",
   "id": "4cde797e",
   "metadata": {},
   "source": [
    "## NeLLoC (ANS)"
   ]
  },
  {
   "cell_type": "code",
   "execution_count": 1,
   "id": "bed0a3ae",
   "metadata": {},
   "outputs": [
    {
     "name": "stderr",
     "output_type": "stream",
     "text": [
      "/Users/tomo/miniforge3/envs/torch-nightly/lib/python3.8/site-packages/tqdm/auto.py:22: TqdmWarning: IProgress not found. Please update jupyter and ipywidgets. See https://ipywidgets.readthedocs.io/en/stable/user_install.html\n",
      "  from .autonotebook import tqdm as notebook_tqdm\n"
     ]
    }
   ],
   "source": [
    "import time\n",
    "import torch\n",
    "from models.nelloc_model import *\n",
    "from coders.nelloc_ans import *\n",
    "from coders.pnelloc_ans import *\n",
    "import numpy as np\n",
    "from tqdm import tqdm\n",
    "from models.utils import get_test_image\n",
    "\n",
    "device=torch.device(\"cpu\")\n"
   ]
  },
  {
   "cell_type": "code",
   "execution_count": 2,
   "id": "a528ac58",
   "metadata": {},
   "outputs": [],
   "source": [
    "def test(net,all_img, D, rf, p_prec=16, parallel=False):\n",
    "    K=rf*2+1\n",
    "    if parallel:\n",
    "        time_length=np.arange(0,D+int((K+1)/2)*(D-1))\n",
    "        index_matrix=np.zeros((D,D))\n",
    "        for i in range(0,D):\n",
    "            index_matrix[i:i+1,:]=time_length[i*int((K+1)/2): i*int((K+1)/2)+D].reshape(1,D)\n",
    "        time_index=[]\n",
    "        for t in time_length:\n",
    "            time_index.append(list(zip(*np.where(index_matrix==t))))\n",
    "    else:\n",
    "        pass\n",
    "\n",
    "    BPD_list=[]\n",
    "    compression_time_list=[]\n",
    "    decompression_time_list=[]\n",
    "    for i in tqdm(range(0,all_img.size(0))):\n",
    "        img=all_img[i].unsqueeze(0)\n",
    "        if parallel:\n",
    "            start = time.time()\n",
    "            ans_stack=p_ans_compression(net,img,time_index,D,D,rf,p_prec)\n",
    "            end = time.time()\n",
    "        else:\n",
    "            start = time.time()\n",
    "            ans_stack=ans_compression(net,img,D,D,rf,p_prec)\n",
    "            end = time.time()\n",
    "        compression_time_list.append(end - start)\n",
    "        BPD_list.append(ans_stack.get_length()/(D*D*3))\n",
    "        \n",
    "        if parallel:\n",
    "            start = time.time()\n",
    "            decode_img=p_ans_decompression(net,ans_stack,time_index,D,D,rf,p_prec)\n",
    "            end = time.time()\n",
    "        else:\n",
    "            start = time.time()\n",
    "            decode_img=ans_decompression(net,ans_stack,D,D,rf,p_prec)\n",
    "            end = time.time()\n",
    "        decompression_time_list.append(end - start)\n",
    "        if (img-decode_img).sum().item()>0.:\n",
    "            print('wrong')\n",
    "    \n",
    "    print('average compression time', np.mean(compression_time_list))\n",
    "    print('average decompression time',np.mean(decompression_time_list))\n",
    "    print('average BPD', np.mean(BPD_list))"
   ]
  },
  {
   "cell_type": "code",
   "execution_count": 3,
   "id": "00df8f3a",
   "metadata": {},
   "outputs": [
    {
     "name": "stderr",
     "output_type": "stream",
     "text": [
      "100%|██████████| 10/10 [00:09<00:00,  1.10it/s]\n"
     ]
    },
    {
     "name": "stdout",
     "output_type": "stream",
     "text": [
      "average compression time 0.4507297992706299\n",
      "average decompression time 0.4602129220962524\n",
      "average BPD 3.39541015625\n"
     ]
    },
    {
     "name": "stderr",
     "output_type": "stream",
     "text": [
      "100%|██████████| 10/10 [00:04<00:00,  2.29it/s]"
     ]
    },
    {
     "name": "stdout",
     "output_type": "stream",
     "text": [
      "average compression time 0.21267218589782716\n",
      "average decompression time 0.2230468511581421\n",
      "average BPD 3.3938151041666664\n"
     ]
    },
    {
     "name": "stderr",
     "output_type": "stream",
     "text": [
      "\n"
     ]
    }
   ],
   "source": [
    "net = LocalPixelCNN(res_num=0, in_kernel = 7, out_channels=100).to(device)\n",
    "net.load_state_dict(torch.load('./model_save/nelloc_rs0h3.pth',map_location=device))\n",
    "D=32\n",
    "test_images=get_test_image(D)[0:10,:,0:D,0:D]\n",
    "test(net,test_images, D=D,rf=3,parallel=False)\n",
    "test(net,test_images, D=D,rf=3,parallel=True)"
   ]
  },
  {
   "cell_type": "code",
   "execution_count": 4,
   "id": "1a780f2d",
   "metadata": {},
   "outputs": [
    {
     "name": "stderr",
     "output_type": "stream",
     "text": [
      "100%|██████████| 10/10 [00:11<00:00,  1.15s/it]\n"
     ]
    },
    {
     "name": "stdout",
     "output_type": "stream",
     "text": [
      "average compression time 0.5721799373626709\n",
      "average decompression time 0.5781133651733399\n",
      "average BPD 3.31826171875\n"
     ]
    },
    {
     "name": "stderr",
     "output_type": "stream",
     "text": [
      "100%|██████████| 10/10 [00:05<00:00,  1.91it/s]"
     ]
    },
    {
     "name": "stdout",
     "output_type": "stream",
     "text": [
      "average compression time 0.25638842582702637\n",
      "average decompression time 0.26610987186431884\n",
      "average BPD 3.3184895833333337\n"
     ]
    },
    {
     "name": "stderr",
     "output_type": "stream",
     "text": [
      "\n"
     ]
    }
   ],
   "source": [
    "net = LocalPixelCNN(res_num=1, in_kernel = 7, out_channels=100).to(device)\n",
    "net.load_state_dict(torch.load('./model_save/nelloc_rs1h3.pth',map_location=device))\n",
    "D=32\n",
    "test_images=get_test_image(D)[0:10,:,0:D,0:D]\n",
    "test(net,test_images, D=D,rf=3,parallel=False)\n",
    "test(net,test_images, D=D,rf=3,parallel=True)"
   ]
  },
  {
   "cell_type": "code",
   "execution_count": 5,
   "id": "a26dde5f",
   "metadata": {},
   "outputs": [
    {
     "name": "stderr",
     "output_type": "stream",
     "text": [
      "100%|██████████| 10/10 [00:15<00:00,  1.53s/it]\n"
     ]
    },
    {
     "name": "stdout",
     "output_type": "stream",
     "text": [
      "average compression time 0.7565342426300049\n",
      "average decompression time 0.7739993333816528\n",
      "average BPD 3.2850260416666663\n"
     ]
    },
    {
     "name": "stderr",
     "output_type": "stream",
     "text": [
      "100%|██████████| 10/10 [00:06<00:00,  1.51it/s]"
     ]
    },
    {
     "name": "stdout",
     "output_type": "stream",
     "text": [
      "average compression time 0.32673208713531493\n",
      "average decompression time 0.334816575050354\n",
      "average BPD 3.2854166666666664\n"
     ]
    },
    {
     "name": "stderr",
     "output_type": "stream",
     "text": [
      "\n"
     ]
    }
   ],
   "source": [
    "net = LocalPixelCNN(res_num=3, in_kernel = 7, out_channels=100).to(device)\n",
    "net.load_state_dict(torch.load('./model_save/nelloc_rs3h3.pth',map_location=device))\n",
    "D=32\n",
    "test_images=get_test_image(D)[0:10,:,0:D,0:D]\n",
    "test(net,test_images, D=D,rf=3,parallel=False)\n",
    "test(net,test_images, D=D,rf=3,parallel=True)"
   ]
  },
  {
   "cell_type": "code",
   "execution_count": 6,
   "id": "ceb374be",
   "metadata": {},
   "outputs": [
    {
     "name": "stderr",
     "output_type": "stream",
     "text": [
      "100%|██████████| 10/10 [00:36<00:00,  3.69s/it]\n"
     ]
    },
    {
     "name": "stdout",
     "output_type": "stream",
     "text": [
      "average compression time 1.815756893157959\n",
      "average decompression time 1.8785051107406616\n",
      "average BPD 3.0523763020833337\n"
     ]
    },
    {
     "name": "stderr",
     "output_type": "stream",
     "text": [
      "100%|██████████| 10/10 [00:14<00:00,  1.46s/it]"
     ]
    },
    {
     "name": "stdout",
     "output_type": "stream",
     "text": [
      "average compression time 0.7032831192016602\n",
      "average decompression time 0.7568142890930176\n",
      "average BPD 3.0521484375000005\n"
     ]
    },
    {
     "name": "stderr",
     "output_type": "stream",
     "text": [
      "\n"
     ]
    }
   ],
   "source": [
    "net = LocalPixelCNN(res_num=0, in_kernel = 7, out_channels=100).to(device)\n",
    "net.load_state_dict(torch.load('./model_save/nelloc_rs0h3.pth',map_location=device))\n",
    "D=64\n",
    "test_images=get_test_image(D)[0:10,:,0:D,0:D]\n",
    "test(net,test_images, D=D,rf=3,parallel=False)\n",
    "test(net,test_images, D=D,rf=3,parallel=True)"
   ]
  },
  {
   "cell_type": "code",
   "execution_count": 7,
   "id": "3c376386",
   "metadata": {},
   "outputs": [
    {
     "name": "stderr",
     "output_type": "stream",
     "text": [
      "100%|██████████| 10/10 [02:29<00:00, 14.97s/it]\n"
     ]
    },
    {
     "name": "stdout",
     "output_type": "stream",
     "text": [
      "average compression time 7.394210863113403\n",
      "average decompression time 7.573542857170105\n",
      "average BPD 2.9347513834635417\n"
     ]
    },
    {
     "name": "stderr",
     "output_type": "stream",
     "text": [
      "100%|██████████| 10/10 [00:42<00:00,  4.20s/it]"
     ]
    },
    {
     "name": "stdout",
     "output_type": "stream",
     "text": [
      "average compression time 1.9836273908615112\n",
      "average decompression time 2.2172059297561644\n",
      "average BPD 2.9345642089843755\n"
     ]
    },
    {
     "name": "stderr",
     "output_type": "stream",
     "text": [
      "\n"
     ]
    }
   ],
   "source": [
    "net = LocalPixelCNN(res_num=0, in_kernel = 7, out_channels=100).to(device)\n",
    "net.load_state_dict(torch.load('./model_save/nelloc_rs0h3.pth',map_location=device))\n",
    "D=128\n",
    "test_images=get_test_image(D)[0:10,:,0:D,0:D]\n",
    "test(net,test_images, D=D,rf=3,parallel=False)\n",
    "test(net,test_images, D=D,rf=3,parallel=True)"
   ]
  },
  {
   "cell_type": "code",
   "execution_count": 20,
   "id": "2d76bcb6",
   "metadata": {},
   "outputs": [
    {
     "name": "stdout",
     "output_type": "stream",
     "text": [
      "torch.Size([3, 3, 1024, 1024])\n"
     ]
    },
    {
     "name": "stderr",
     "output_type": "stream",
     "text": [
      "100%|██████████████████████████████████████████████████████████████████████████████████████████████| 3/3 [47:03<00:00, 941.27s/it]"
     ]
    },
    {
     "name": "stdout",
     "output_type": "stream",
     "text": [
      "average compression time 465.3420154253642\n",
      "average decompression time 475.91408737500507\n",
      "average BPD 2.2237941953870983\n"
     ]
    },
    {
     "name": "stderr",
     "output_type": "stream",
     "text": [
      "\n"
     ]
    }
   ],
   "source": [
    "import PIL\n",
    "D=1024\n",
    "test_img1=torch.tensor(np.asarray(PIL.Image.open('img-1024/1.png').convert('RGB')),dtype=torch.int32).permute(2,0,1).reshape(1,3,1024,1024)\n",
    "test_img2=torch.tensor(np.asarray(PIL.Image.open('img-1024/2.png').convert('RGB')),dtype=torch.int32).permute(2,0,1).reshape(1,3,1024,1024)\n",
    "test_img3=torch.tensor(np.asarray(PIL.Image.open('img-1024/3.png').convert('RGB')),dtype=torch.int32).permute(2,0,1).reshape(1,3,1024,1024)\n",
    "test_images=torch.cat((test_img1,test_img2,test_img3),0)\n",
    "print(test_images.size())\n",
    "\n",
    "net = LocalPixelCNN(res_num=0, in_kernel = 7, out_channels=100).to(device)\n",
    "net.load_state_dict(torch.load('./model_save/nelloc_rs0h3.pth',map_location=device))\n",
    "# test(net,test_images, D=D,rf=3,parallel=True)\n",
    "test(net,test_images, D=D,rf=3,parallel=False)"
   ]
  },
  {
   "cell_type": "code",
   "execution_count": 19,
   "id": "43dd716f",
   "metadata": {},
   "outputs": [
    {
     "name": "stdout",
     "output_type": "stream",
     "text": [
      "torch.Size([3, 3, 1024, 1024])\n"
     ]
    },
    {
     "name": "stderr",
     "output_type": "stream",
     "text": [
      "100%|██████████████████████████████████████████████████████████████████████████████████████████████| 3/3 [09:13<00:00, 184.52s/it]"
     ]
    },
    {
     "name": "stdout",
     "output_type": "stream",
     "text": [
      "average compression time 84.46455391248067\n",
      "average decompression time 100.04404664039612\n",
      "average BPD 2.2237012651231556\n"
     ]
    },
    {
     "name": "stderr",
     "output_type": "stream",
     "text": [
      "\n"
     ]
    }
   ],
   "source": [
    "test(net,test_images, D=D,rf=3,parallel=True)"
   ]
  }
 ],
 "metadata": {
  "interpreter": {
   "hash": "7b0c3e5bf7dd40b6137bae7295f9835aea917e5a54ea691c88996cea67eb11b2"
  },
  "kernelspec": {
   "display_name": "Python 3 (ipykernel)",
   "language": "python",
   "name": "python3"
  },
  "language_info": {
   "codemirror_mode": {
    "name": "ipython",
    "version": 3
   },
   "file_extension": ".py",
   "mimetype": "text/x-python",
   "name": "python",
   "nbconvert_exporter": "python",
   "pygments_lexer": "ipython3",
   "version": "3.8.13"
  },
  "metadata": {
   "interpreter": {
    "hash": "b852727cbc07f91e068f89694620947c3029e3787c27335d79079a758f73f79f"
   }
  }
 },
 "nbformat": 4,
 "nbformat_minor": 5
}
