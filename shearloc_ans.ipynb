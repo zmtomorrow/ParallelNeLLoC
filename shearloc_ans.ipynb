{
 "cells": [
  {
   "cell_type": "markdown",
   "id": "8730a3ee",
   "metadata": {},
   "source": [
    "## ShearLoC (ANS)"
   ]
  },
  {
   "cell_type": "code",
   "execution_count": 1,
   "id": "30c1e7dd",
   "metadata": {},
   "outputs": [
    {
     "name": "stderr",
     "output_type": "stream",
     "text": [
      "/Users/tomo/miniforge3/envs/torch-nightly/lib/python3.8/site-packages/tqdm/auto.py:22: TqdmWarning: IProgress not found. Please update jupyter and ipywidgets. See https://ipywidgets.readthedocs.io/en/stable/user_install.html\n",
      "  from .autonotebook import tqdm as notebook_tqdm\n"
     ]
    }
   ],
   "source": [
    "import time\n",
    "import torch\n",
    "from models.shearloc_model import *\n",
    "from coders.shearloc_ans import *\n",
    "import numpy as np\n",
    "from tqdm import tqdm\n",
    "from models.utils import get_test_image,shear_quantity\n",
    "%matplotlib inline \n",
    "\n",
    "device=torch.device(\"cpu\")"
   ]
  },
  {
   "cell_type": "code",
   "execution_count": 2,
   "id": "076f5556",
   "metadata": {},
   "outputs": [],
   "source": [
    "def test(net,all_img, D, O, K, p_prec=16):\n",
    "    BPD_list=[]\n",
    "    compression_time_list=[]\n",
    "    decompression_time_list=[]\n",
    "    quantity=shear_quantity(D,O)\n",
    "    for i in tqdm(range(0,all_img.size(0))):\n",
    "        img=all_img[i].unsqueeze(0)\n",
    "        start = time.time()\n",
    "        ans_stack=ans_compression(net,img,quantity,K,p_prec)\n",
    "        end = time.time()\n",
    "        compression_time_list.append(end - start)\n",
    "        BPD_list.append(ans_stack.get_length()/(D*D*3))\n",
    "        \n",
    "\n",
    "        start = time.time()\n",
    "        decode_img=ans_decompression(net,ans_stack,quantity,K,p_prec)\n",
    "        end = time.time()\n",
    "        decompression_time_list.append(end - start)\n",
    "        if (img-decode_img).sum().item()>0.:\n",
    "            print('wrong')\n",
    "    \n",
    "    print('average compression time', np.mean(compression_time_list))\n",
    "    print('average decompression time',np.mean(decompression_time_list))\n",
    "    print('average BPD', np.mean(BPD_list))\n",
    "\n"
   ]
  },
  {
   "cell_type": "code",
   "execution_count": 3,
   "id": "5b76e41d",
   "metadata": {},
   "outputs": [],
   "source": [
    "h=3 ## dependency horizon\n",
    "o=h+1 ## shear offset\n",
    "kh=h+1 ## height of the cnn kernel \n",
    "kw=o*h+h ## width of the cnn kernel\n",
    "mix_num=10 ## mixture num in the discretized logitsic mixture distribution"
   ]
  },
  {
   "cell_type": "code",
   "execution_count": 4,
   "id": "c3546a9b",
   "metadata": {},
   "outputs": [
    {
     "name": "stderr",
     "output_type": "stream",
     "text": [
      "100%|██████████| 10/10 [00:04<00:00,  2.32it/s]"
     ]
    },
    {
     "name": "stdout",
     "output_type": "stream",
     "text": [
      "average compression time 0.21366124153137206\n",
      "average decompression time 0.217557692527771\n",
      "average BPD 3.3937825520833336\n"
     ]
    },
    {
     "name": "stderr",
     "output_type": "stream",
     "text": [
      "\n"
     ]
    }
   ],
   "source": [
    "D=32 ## image side length\n",
    "test_images=get_test_image(D)[0:10,:,0:D,0:D]\n",
    "\n",
    "res=0 ## number of resnet blocks\n",
    "net = LocalPixelCNN( res_num=res, kernel_size = [kh,kw], out_channels=mix_num*10).to(device)\n",
    "dict_loaded=torch.load('./model_save/nelloc_rs0h3.pth',map_location=device)\n",
    "a=shear(dict_loaded['in_cnn.weight'],offset=o)[:,:,:kh,:kw]\n",
    "dict_loaded['in_cnn.weight']=a.clone()\n",
    "net.load_state_dict(dict_loaded,strict=False)\n",
    "test_images=get_test_image(D)[0:10,:,0:D,0:D]\n",
    "test(net,test_images, D=D,O=o,K=(kh,kw))\n"
   ]
  },
  {
   "cell_type": "code",
   "execution_count": 5,
   "id": "b7c71af3",
   "metadata": {},
   "outputs": [
    {
     "name": "stderr",
     "output_type": "stream",
     "text": [
      "100%|██████████| 10/10 [00:04<00:00,  2.27it/s]"
     ]
    },
    {
     "name": "stdout",
     "output_type": "stream",
     "text": [
      "average compression time 0.21780450344085694\n",
      "average decompression time 0.22225584983825683\n",
      "average BPD 3.3184895833333337\n"
     ]
    },
    {
     "name": "stderr",
     "output_type": "stream",
     "text": [
      "\n"
     ]
    }
   ],
   "source": [
    "res=1\n",
    "net = LocalPixelCNN( res_num=res, kernel_size = [kh,kw], out_channels=mix_num*10).to(device)\n",
    "dict_loaded=torch.load('./model_save/nelloc_rs1h3.pth',map_location=device)\n",
    "a=shear(dict_loaded['in_cnn.weight'],offset=o)[:,:,:kh,:kw]\n",
    "dict_loaded['in_cnn.weight']=a.clone()\n",
    "net.load_state_dict(dict_loaded,strict=False)\n",
    "test(net,test_images, D=D,O=o,K=(kh,kw))"
   ]
  },
  {
   "cell_type": "code",
   "execution_count": 6,
   "id": "5f4c62b5",
   "metadata": {},
   "outputs": [
    {
     "name": "stderr",
     "output_type": "stream",
     "text": [
      "100%|██████████| 10/10 [00:04<00:00,  2.06it/s]"
     ]
    },
    {
     "name": "stdout",
     "output_type": "stream",
     "text": [
      "average compression time 0.2405768394470215\n",
      "average decompression time 0.24517347812652587\n",
      "average BPD 3.2854166666666664\n"
     ]
    },
    {
     "name": "stderr",
     "output_type": "stream",
     "text": [
      "\n"
     ]
    }
   ],
   "source": [
    "res=3\n",
    "net = LocalPixelCNN( res_num=res, kernel_size = [kh,kw], out_channels=mix_num*10).to(device)\n",
    "dict_loaded=torch.load('./model_save/nelloc_rs3h3.pth',map_location=device)\n",
    "a=shear(dict_loaded['in_cnn.weight'],offset=o)[:,:,:kh,:kw]\n",
    "dict_loaded['in_cnn.weight']=a.clone()\n",
    "net.load_state_dict(dict_loaded,strict=False)\n",
    "test(net,test_images, D=D,O=o,K=(kh,kw))"
   ]
  },
  {
   "cell_type": "code",
   "execution_count": 7,
   "id": "258c890b",
   "metadata": {},
   "outputs": [
    {
     "name": "stderr",
     "output_type": "stream",
     "text": [
      "100%|██████████| 10/10 [00:12<00:00,  1.20s/it]"
     ]
    },
    {
     "name": "stdout",
     "output_type": "stream",
     "text": [
      "average compression time 0.5880004644393921\n",
      "average decompression time 0.6124924182891845\n",
      "average BPD 3.0521484375000005\n"
     ]
    },
    {
     "name": "stderr",
     "output_type": "stream",
     "text": [
      "\n"
     ]
    }
   ],
   "source": [
    "D=64\n",
    "test_images=get_test_image(D)[0:10,:,0:D,0:D]\n",
    "\n",
    "res=0\n",
    "net = LocalPixelCNN( res_num=res, kernel_size = [kh,kw], out_channels=mix_num*10).to(device)\n",
    "dict_loaded=torch.load('./model_save/nelloc_rs0h3.pth',map_location=device)\n",
    "a=shear(dict_loaded['in_cnn.weight'],offset=o)[:,:,:kh,:kw]\n",
    "dict_loaded['in_cnn.weight']=a.clone()\n",
    "net.load_state_dict(dict_loaded,strict=False)\n",
    "test(net,test_images, D=D,O=o,K=(kh,kw))"
   ]
  },
  {
   "cell_type": "code",
   "execution_count": 8,
   "id": "4ae54996",
   "metadata": {},
   "outputs": [
    {
     "name": "stderr",
     "output_type": "stream",
     "text": [
      "100%|██████████| 10/10 [00:32<00:00,  3.24s/it]"
     ]
    },
    {
     "name": "stdout",
     "output_type": "stream",
     "text": [
      "average compression time 1.5599421262741089\n",
      "average decompression time 1.6827704668045045\n",
      "average BPD 2.9345642089843755\n"
     ]
    },
    {
     "name": "stderr",
     "output_type": "stream",
     "text": [
      "\n"
     ]
    }
   ],
   "source": [
    "D=128\n",
    "test_images=get_test_image(D)[0:10,:,0:D,0:D]\n",
    "\n",
    "res=0\n",
    "net = LocalPixelCNN( res_num=res, kernel_size = [kh,kw], out_channels=mix_num*10).to(device)\n",
    "dict_loaded=torch.load('./model_save/nelloc_rs0h3.pth',map_location=device)\n",
    "a=shear(dict_loaded['in_cnn.weight'],offset=o)[:,:,:kh,:kw]\n",
    "dict_loaded['in_cnn.weight']=a.clone()\n",
    "net.load_state_dict(dict_loaded,strict=False)\n",
    "test(net,test_images, D=D,O=o,K=(kh,kw))"
   ]
  },
  {
   "cell_type": "code",
   "execution_count": 6,
   "id": "8169ce33",
   "metadata": {},
   "outputs": [
    {
     "name": "stdout",
     "output_type": "stream",
     "text": [
      "torch.Size([3, 3, 1024, 1024])\n"
     ]
    },
    {
     "name": "stderr",
     "output_type": "stream",
     "text": [
      "100%|██████████████████████████████████████████████████████████████████████████████████████████████| 3/3 [06:47<00:00, 135.76s/it]"
     ]
    },
    {
     "name": "stdout",
     "output_type": "stream",
     "text": [
      "average compression time 62.75702730814616\n",
      "average decompression time 73.00248901049297\n",
      "average BPD 2.223701265123155\n"
     ]
    },
    {
     "name": "stderr",
     "output_type": "stream",
     "text": [
      "\n"
     ]
    }
   ],
   "source": [
    "import PIL\n",
    "D=1024\n",
    "test_img1=torch.tensor(np.asarray(PIL.Image.open('img-1024/1.png').convert('RGB')),dtype=torch.int32).permute(2,0,1).reshape(1,3,1024,1024)\n",
    "test_img2=torch.tensor(np.asarray(PIL.Image.open('img-1024/2.png').convert('RGB')),dtype=torch.int32).permute(2,0,1).reshape(1,3,1024,1024)\n",
    "test_img3=torch.tensor(np.asarray(PIL.Image.open('img-1024/3.png').convert('RGB')),dtype=torch.int32).permute(2,0,1).reshape(1,3,1024,1024)\n",
    "test_images=torch.cat((test_img1,test_img2,test_img3),0)\n",
    "print(test_images.size())`\n",
    "\n",
    "res=0\n",
    "net = LocalPixelCNN( res_num=res, kernel_size = [kh,kw], out_channels=mix_num*10).to(device)\n",
    "dict_loaded=torch.load('./model_save/nelloc_rs0h3.pth',map_location=device)\n",
    "a=shear(dict_loaded['in_cnn.weight'],offset=o)[:,:,:kh,:kw]\n",
    "dict_loaded['in_cnn.weight']=a.clone()\n",
    "net.load_state_dict(dict_loaded,strict=False)\n",
    "test(net,test_images, D=D,O=o,K=(kh,kw))"
   ]
  }
 ],
 "metadata": {
  "interpreter": {
   "hash": "7b0c3e5bf7dd40b6137bae7295f9835aea917e5a54ea691c88996cea67eb11b2"
  },
  "kernelspec": {
   "display_name": "Python 3 (ipykernel)",
   "language": "python",
   "name": "python3"
  },
  "language_info": {
   "codemirror_mode": {
    "name": "ipython",
    "version": 3
   },
   "file_extension": ".py",
   "mimetype": "text/x-python",
   "name": "python",
   "nbconvert_exporter": "python",
   "pygments_lexer": "ipython3",
   "version": "3.8.13"
  },
  "metadata": {
   "interpreter": {
    "hash": "b852727cbc07f91e068f89694620947c3029e3787c27335d79079a758f73f79f"
   }
  }
 },
 "nbformat": 4,
 "nbformat_minor": 5
}
