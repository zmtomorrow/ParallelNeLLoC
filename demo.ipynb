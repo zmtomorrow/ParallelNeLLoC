{
 "cells": [
  {
   "cell_type": "markdown",
   "id": "34e82dcc",
   "metadata": {},
   "source": [
    "## Parallel NeLLoC (Arithmetic Coding)"
   ]
  },
  {
   "cell_type": "code",
   "execution_count": 1,
   "id": "5fc73a99",
   "metadata": {},
   "outputs": [
    {
     "data": {
      "text/plain": [
       "<All keys matched successfully>"
      ]
     },
     "execution_count": 1,
     "metadata": {},
     "output_type": "execute_result"
    }
   ],
   "source": [
    "import time\n",
    "import torch\n",
    "from model import *\n",
    "import matplotlib.pyplot as plt\n",
    "from compression import *\n",
    "import numpy as np\n",
    "from tqdm import tqdm\n",
    "from scipy.io import loadmat\n",
    "from utils import get_test_image\n",
    "%matplotlib inline \n",
    "\n",
    "device=torch.device(\"cpu\")\n",
    "net = PixelCNN_light(in_kernel = 5, in_channels=3, channels=100, out_channels=9).to(device)\n",
    "net.load_state_dict(torch.load('./model_save/logistic_ks5.pt',map_location=device))"
   ]
  },
  {
   "cell_type": "code",
   "execution_count": 2,
   "id": "42d30733",
   "metadata": {},
   "outputs": [],
   "source": [
    "def test(all_img,D, K, prec=6000, parallel=False):\n",
    "    if parallel:\n",
    "        time_length=np.arange(0,D+int((K+1)/2)*(D-1))\n",
    "        index_matrix=np.zeros((D,D))\n",
    "        for i in range(0,D):\n",
    "            index_matrix[i:i+1,:]=time_length[i*int((K+1)/2): i*int((K+1)/2)+D].reshape(1,D)\n",
    "        time_index=[]\n",
    "        for t in time_length:\n",
    "            time_index.append(list(zip(*np.where(index_matrix==t))))\n",
    "    else:\n",
    "        pass\n",
    "    \n",
    "    BPD_list=[]\n",
    "    compression_time_list=[]\n",
    "    decompression_time_list=[]\n",
    "\n",
    "    for i in tqdm(range(0,all_img.size(0))):\n",
    "        img=all_img[i].unsqueeze(0)\n",
    "        getcontext().prec=prec\n",
    "        if parallel:\n",
    "            start = time.time()\n",
    "            code=ac_compression_parallel(net,img,time_index,K)\n",
    "            end = time.time()\n",
    "        else:\n",
    "            start = time.time()\n",
    "            code=ac_compression(net,img,K)\n",
    "            end = time.time()\n",
    "        compression_time_list.append(end - start)\n",
    "        BPD_list.append(len(code)/(D*D*3))\n",
    "        \n",
    "        if parallel:\n",
    "            start = time.time()\n",
    "            decode_img=ac_decompression_parallel(net,code,D,D,time_index,K)\n",
    "            end = time.time()\n",
    "        else:\n",
    "            start = time.time()\n",
    "            decode_img=ac_decompression(net,code,D,D,K)\n",
    "            end = time.time()\n",
    "        decompression_time_list.append(end - start)\n",
    "        if (img-decode_img).sum().item()>0.:\n",
    "            print('wrong')\n",
    "    \n",
    "    if parallel:\n",
    "        print('Using parallelization')\n",
    "    else:\n",
    "        print('Not using parallelization')\n",
    "    print('average compression time', np.mean(compression_time_list))\n",
    "    print('average decompression time',np.mean(decompression_time_list))\n",
    "    print('average BPD', np.mean(BPD_list))"
   ]
  },
  {
   "cell_type": "code",
   "execution_count": 3,
   "id": "61659099",
   "metadata": {},
   "outputs": [
    {
     "name": "stderr",
     "output_type": "stream",
     "text": [
      "100%|██████████| 10/10 [00:25<00:00,  2.55s/it]\n",
      "  0%|          | 0/10 [00:00<?, ?it/s]"
     ]
    },
    {
     "name": "stdout",
     "output_type": "stream",
     "text": [
      "Not using parallelization\n",
      "average compression time 1.2363938570022583\n",
      "average decompression time 1.3162425994873046\n",
      "average BPD 3.65078125\n"
     ]
    },
    {
     "name": "stderr",
     "output_type": "stream",
     "text": [
      "100%|██████████| 10/10 [00:13<00:00,  1.32s/it]"
     ]
    },
    {
     "name": "stdout",
     "output_type": "stream",
     "text": [
      "Using parallelization\n",
      "average compression time 0.6016015768051147\n",
      "average decompression time 0.7219446897506714\n",
      "average BPD 3.6511067708333336\n"
     ]
    },
    {
     "name": "stderr",
     "output_type": "stream",
     "text": [
      "\n"
     ]
    }
   ],
   "source": [
    "D=32\n",
    "test_images=get_test_image(D)\n",
    "test(test_images,D,5,parallel=False)\n",
    "test(test_images,D,5,parallel=True)"
   ]
  },
  {
   "cell_type": "code",
   "execution_count": 4,
   "id": "502df303",
   "metadata": {},
   "outputs": [
    {
     "name": "stderr",
     "output_type": "stream",
     "text": [
      "100%|██████████| 10/10 [01:49<00:00, 10.94s/it]\n",
      "  0%|          | 0/10 [00:00<?, ?it/s]"
     ]
    },
    {
     "name": "stdout",
     "output_type": "stream",
     "text": [
      "Not using parallelization\n",
      "average compression time 5.355291795730591\n",
      "average decompression time 5.588459205627442\n",
      "average BPD 3.5683430989583336\n"
     ]
    },
    {
     "name": "stderr",
     "output_type": "stream",
     "text": [
      "100%|██████████| 10/10 [01:00<00:00,  6.03s/it]"
     ]
    },
    {
     "name": "stdout",
     "output_type": "stream",
     "text": [
      "Using parallelization\n",
      "average compression time 2.6736512422561645\n",
      "average decompression time 3.3601449728012085\n",
      "average BPD 3.5684488932291663\n"
     ]
    },
    {
     "name": "stderr",
     "output_type": "stream",
     "text": [
      "\n"
     ]
    }
   ],
   "source": [
    "D=64\n",
    "prec=20000\n",
    "test_images=get_test_image(D)\n",
    "test(test_images,D,5,prec,parallel=False)\n",
    "test(test_images,D,5,prec,parallel=True)"
   ]
  },
  {
   "cell_type": "code",
   "execution_count": 7,
   "id": "55a63628",
   "metadata": {},
   "outputs": [
    {
     "name": "stderr",
     "output_type": "stream",
     "text": [
      "100%|██████████| 10/10 [09:43<00:00, 58.33s/it]\n",
      "  0%|          | 0/10 [00:00<?, ?it/s]"
     ]
    },
    {
     "name": "stdout",
     "output_type": "stream",
     "text": [
      "Not using parallelization\n",
      "average compression time 26.590954637527467\n",
      "average decompression time 31.736795520782472\n",
      "average BPD 3.1255859375\n"
     ]
    },
    {
     "name": "stderr",
     "output_type": "stream",
     "text": [
      "100%|██████████| 10/10 [06:47<00:00, 40.75s/it]"
     ]
    },
    {
     "name": "stdout",
     "output_type": "stream",
     "text": [
      "Using parallelization\n",
      "average compression time 17.660334014892577\n",
      "average decompression time 23.08530488014221\n",
      "average BPD 3.125579833984375\n"
     ]
    },
    {
     "name": "stderr",
     "output_type": "stream",
     "text": [
      "\n"
     ]
    }
   ],
   "source": [
    "D=128\n",
    "prec=100000\n",
    "test_images=get_test_image(D)\n",
    "test(test_images,D,5,prec,parallel=False)\n",
    "test(test_images,D,5,prec,parallel=True)"
   ]
  }
 ],
 "metadata": {
  "kernelspec": {
   "display_name": "Python 3",
   "language": "python",
   "name": "python3"
  },
  "language_info": {
   "codemirror_mode": {
    "name": "ipython",
    "version": 3
   },
   "file_extension": ".py",
   "mimetype": "text/x-python",
   "name": "python",
   "nbconvert_exporter": "python",
   "pygments_lexer": "ipython3",
   "version": "3.9.4"
  }
 },
 "nbformat": 4,
 "nbformat_minor": 5
}
